{
 "cells": [
  {
   "cell_type": "code",
   "execution_count": 30,
   "id": "2b4184d8",
   "metadata": {},
   "outputs": [
    {
     "data": {
      "text/plain": [
       "'data science'"
      ]
     },
     "execution_count": 30,
     "metadata": {},
     "output_type": "execute_result"
    }
   ],
   "source": [
    "rock = \"data science\"\n",
    "rock"
   ]
  },
  {
   "cell_type": "code",
   "execution_count": 31,
   "id": "524a19fc",
   "metadata": {},
   "outputs": [
    {
     "data": {
      "text/plain": [
       "'d'"
      ]
     },
     "execution_count": 31,
     "metadata": {},
     "output_type": "execute_result"
    }
   ],
   "source": [
    "rock [0]"
   ]
  },
  {
   "cell_type": "code",
   "execution_count": 32,
   "id": "3d366563",
   "metadata": {},
   "outputs": [
    {
     "data": {
      "text/plain": [
       "'a'"
      ]
     },
     "execution_count": 32,
     "metadata": {},
     "output_type": "execute_result"
    }
   ],
   "source": [
    "rock [3]"
   ]
  },
  {
   "cell_type": "code",
   "execution_count": 33,
   "id": "28bc3a6d",
   "metadata": {},
   "outputs": [
    {
     "data": {
      "text/plain": [
       "'data science'"
      ]
     },
     "execution_count": 33,
     "metadata": {},
     "output_type": "execute_result"
    }
   ],
   "source": [
    "rock [:]"
   ]
  },
  {
   "cell_type": "code",
   "execution_count": 34,
   "id": "8bc9205a",
   "metadata": {},
   "outputs": [
    {
     "data": {
      "text/plain": [
       "'ie'"
      ]
     },
     "execution_count": 34,
     "metadata": {},
     "output_type": "execute_result"
    }
   ],
   "source": [
    "rock [-5:-3]"
   ]
  },
  {
   "cell_type": "code",
   "execution_count": 35,
   "id": "48a4ebae",
   "metadata": {},
   "outputs": [
    {
     "data": {
      "text/plain": [
       "'a scienc'"
      ]
     },
     "execution_count": 35,
     "metadata": {},
     "output_type": "execute_result"
    }
   ],
   "source": [
    "rock [-9:-1]"
   ]
  },
  {
   "cell_type": "code",
   "execution_count": null,
   "id": "781f439d",
   "metadata": {},
   "outputs": [],
   "source": []
  }
 ],
 "metadata": {
  "kernelspec": {
   "display_name": "Python 3 (ipykernel)",
   "language": "python",
   "name": "python3"
  },
  "language_info": {
   "codemirror_mode": {
    "name": "ipython",
    "version": 3
   },
   "file_extension": ".py",
   "mimetype": "text/x-python",
   "name": "python",
   "nbconvert_exporter": "python",
   "pygments_lexer": "ipython3",
   "version": "3.7.11"
  }
 },
 "nbformat": 4,
 "nbformat_minor": 5
}
